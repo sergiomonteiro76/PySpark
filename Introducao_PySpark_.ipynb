{
  "nbformat": 4,
  "nbformat_minor": 0,
  "metadata": {
    "colab": {
      "name": "Apresentacao-PySpark .ipynb",
      "provenance": []
    },
    "kernelspec": {
      "name": "python3",
      "display_name": "Python 3"
    },
    "language_info": {
      "name": "python"
    }
  },
  "cells": [
    {
      "cell_type": "markdown",
      "source": [
        "# **Apresentação da Trilha do Conhecimento**\n",
        "\n",
        "**Estudo de Caso: PySpark**\n",
        "\n",
        "**prof: Sérgio Assunção Monteiro, DSc**\n",
        "\n",
        "\n",
        "https://www.linkedin.com/in/sergio-assun%C3%A7%C3%A3o-monteiro-b781897b/"
      ],
      "metadata": {
        "id": "c5f8OlLPUvoZ"
      }
    },
    {
      "cell_type": "markdown",
      "source": [
        "# **Instalação do Spark**"
      ],
      "metadata": {
        "id": "NFdrH9LwVOor"
      }
    },
    {
      "cell_type": "code",
      "execution_count": 1,
      "metadata": {
        "id": "zqgUaBdoUuxJ"
      },
      "outputs": [],
      "source": [
        "!apt-get install openjdk-8-jdk-headless -qq > /dev/null"
      ]
    },
    {
      "cell_type": "code",
      "source": [
        "!wget -q https://archive.apache.org/dist/spark/spark-3.1.2/spark-3.1.2-bin-hadoop3.2.tgz"
      ],
      "metadata": {
        "id": "AnoIE7kGVW8Z"
      },
      "execution_count": 2,
      "outputs": []
    },
    {
      "cell_type": "code",
      "source": [
        "!tar xf spark-3.1.2-bin-hadoop3.2.tgz"
      ],
      "metadata": {
        "id": "DBl2XhbQVZDC"
      },
      "execution_count": 3,
      "outputs": []
    },
    {
      "cell_type": "code",
      "source": [
        "!pip install -q findspark"
      ],
      "metadata": {
        "id": "DDhiDd3gVZrp"
      },
      "execution_count": 4,
      "outputs": []
    },
    {
      "cell_type": "code",
      "source": [
        "!pip install -q pyspark"
      ],
      "metadata": {
        "id": "gziTMA9BVdN5"
      },
      "execution_count": 5,
      "outputs": []
    },
    {
      "cell_type": "markdown",
      "source": [
        "# **Configurar Variáveis de Ambiente**"
      ],
      "metadata": {
        "id": "ZcH1oLCRVnAN"
      }
    },
    {
      "cell_type": "code",
      "source": [
        "import os\n",
        "os.environ[\"JAVA_HOME\"] = \"/usr/lib/jvm/java-8-openjdk-amd64\"\n",
        "os.environ[\"SPARK_HOME\"] = \"/content/spark-3.1.2-bin-hadoop3.2\""
      ],
      "metadata": {
        "id": "zFrwL9-3Vmjp"
      },
      "execution_count": 6,
      "outputs": []
    },
    {
      "cell_type": "markdown",
      "source": [
        "# **Iniciar Spark**"
      ],
      "metadata": {
        "id": "8U32x7fLVzoJ"
      }
    },
    {
      "cell_type": "code",
      "source": [
        "import findspark\n",
        "findspark.init()"
      ],
      "metadata": {
        "id": "U8veqRF0VtG5"
      },
      "execution_count": 7,
      "outputs": []
    },
    {
      "cell_type": "markdown",
      "source": [
        "# **PySpark**"
      ],
      "metadata": {
        "id": "uaD1qfZ3V5uL"
      }
    },
    {
      "cell_type": "markdown",
      "source": [
        "**Instanciar o SparkContext**"
      ],
      "metadata": {
        "id": "cbAEd01OaE_i"
      }
    },
    {
      "cell_type": "code",
      "source": [
        "from pyspark import SparkContext\n",
        "spark_contexto = SparkContext() # Instantiate SparkContext"
      ],
      "metadata": {
        "id": "s1brW1-uV9kl"
      },
      "execution_count": 8,
      "outputs": []
    },
    {
      "cell_type": "markdown",
      "source": [
        "**Verificar o SparkContext**"
      ],
      "metadata": {
        "id": "nk5VuupBaLyB"
      }
    },
    {
      "cell_type": "code",
      "source": [
        "print(spark_contexto)      "
      ],
      "metadata": {
        "colab": {
          "base_uri": "https://localhost:8080/"
        },
        "id": "oct8MEF6aXOy",
        "outputId": "7806f7e2-91d7-44f6-bfec-c47d10f26fc1"
      },
      "execution_count": 9,
      "outputs": [
        {
          "output_type": "stream",
          "name": "stdout",
          "text": [
            "<SparkContext master=local[*] appName=pyspark-shell>\n"
          ]
        }
      ]
    },
    {
      "cell_type": "markdown",
      "source": [
        "**Versão do Spark**"
      ],
      "metadata": {
        "id": "_0FC_nnmaXsC"
      }
    },
    {
      "cell_type": "code",
      "source": [
        "print(spark_contexto.version)"
      ],
      "metadata": {
        "colab": {
          "base_uri": "https://localhost:8080/"
        },
        "id": "XdpRYtXnabwJ",
        "outputId": "b2dfa489-ed92-43fa-a4ce-a6049d4ebcb7"
      },
      "execution_count": 10,
      "outputs": [
        {
          "output_type": "stream",
          "name": "stdout",
          "text": [
            "3.1.2\n"
          ]
        }
      ]
    },
    {
      "cell_type": "markdown",
      "source": [
        "**Criar uma instância do Spark**"
      ],
      "metadata": {
        "id": "IKFGptUta54x"
      }
    },
    {
      "cell_type": "code",
      "source": [
        "from pyspark.sql import SparkSession \n",
        "spark = SparkSession.builder.master(\"local[*]\").getOrCreate()"
      ],
      "metadata": {
        "id": "cpSLlw_7Wpdq"
      },
      "execution_count": 11,
      "outputs": []
    },
    {
      "cell_type": "markdown",
      "source": [
        "**Imprimir Instância do Spark**"
      ],
      "metadata": {
        "id": "YQsqIZEJbAqh"
      }
    },
    {
      "cell_type": "code",
      "source": [
        "print(spark) "
      ],
      "metadata": {
        "colab": {
          "base_uri": "https://localhost:8080/"
        },
        "id": "__OerhSfbUoy",
        "outputId": "b45870d5-d94f-4fca-b86c-1193f2b30def"
      },
      "execution_count": 12,
      "outputs": [
        {
          "output_type": "stream",
          "name": "stdout",
          "text": [
            "<pyspark.sql.session.SparkSession object at 0x7f63c6546890>\n"
          ]
        }
      ]
    },
    {
      "cell_type": "markdown",
      "source": [
        "**Carregar os dados do arquivo no Spark Dataframe**"
      ],
      "metadata": {
        "id": "XvN60h25bZDh"
      }
    },
    {
      "cell_type": "code",
      "source": [
        "dataset = spark.read.csv('/content/sample_data/california_housing_test.csv',inferSchema=True, header =True)"
      ],
      "metadata": {
        "id": "a8QGaUsvWCdc"
      },
      "execution_count": 13,
      "outputs": []
    },
    {
      "cell_type": "markdown",
      "source": [
        "**Imprimir o Esquema**"
      ],
      "metadata": {
        "id": "z4FJE4BebsMQ"
      }
    },
    {
      "cell_type": "code",
      "source": [
        "dataset.printSchema()"
      ],
      "metadata": {
        "colab": {
          "base_uri": "https://localhost:8080/"
        },
        "id": "a9wWW4vQWHC5",
        "outputId": "28454e04-2823-4b1f-f755-c1e996282d8e"
      },
      "execution_count": 14,
      "outputs": [
        {
          "output_type": "stream",
          "name": "stdout",
          "text": [
            "root\n",
            " |-- longitude: double (nullable = true)\n",
            " |-- latitude: double (nullable = true)\n",
            " |-- housing_median_age: double (nullable = true)\n",
            " |-- total_rooms: double (nullable = true)\n",
            " |-- total_bedrooms: double (nullable = true)\n",
            " |-- population: double (nullable = true)\n",
            " |-- households: double (nullable = true)\n",
            " |-- median_income: double (nullable = true)\n",
            " |-- median_house_value: double (nullable = true)\n",
            "\n"
          ]
        }
      ]
    },
    {
      "cell_type": "markdown",
      "source": [
        "**Visualizar um subconjunto dos Dados**"
      ],
      "metadata": {
        "id": "znsq0apZbwEA"
      }
    },
    {
      "cell_type": "code",
      "source": [
        "dataset.show(3)"
      ],
      "metadata": {
        "colab": {
          "base_uri": "https://localhost:8080/"
        },
        "id": "yrVivzeRYFzk",
        "outputId": "b42bbf75-6f59-4eef-b267-1b4cbc28f5fb"
      },
      "execution_count": 15,
      "outputs": [
        {
          "output_type": "stream",
          "name": "stdout",
          "text": [
            "+---------+--------+------------------+-----------+--------------+----------+----------+-------------+------------------+\n",
            "|longitude|latitude|housing_median_age|total_rooms|total_bedrooms|population|households|median_income|median_house_value|\n",
            "+---------+--------+------------------+-----------+--------------+----------+----------+-------------+------------------+\n",
            "|  -122.05|   37.37|              27.0|     3885.0|         661.0|    1537.0|     606.0|       6.6085|          344700.0|\n",
            "|   -118.3|   34.26|              43.0|     1510.0|         310.0|     809.0|     277.0|        3.599|          176500.0|\n",
            "|  -117.81|   33.78|              27.0|     3589.0|         507.0|    1484.0|     495.0|       5.7934|          270500.0|\n",
            "+---------+--------+------------------+-----------+--------------+----------+----------+-------------+------------------+\n",
            "only showing top 3 rows\n",
            "\n"
          ]
        }
      ]
    },
    {
      "cell_type": "code",
      "source": [
        "dataset.head()"
      ],
      "metadata": {
        "colab": {
          "base_uri": "https://localhost:8080/"
        },
        "id": "4mvlgVvnYIcM",
        "outputId": "239b98b3-3323-45ce-c7fa-030e5c546e15"
      },
      "execution_count": 16,
      "outputs": [
        {
          "output_type": "execute_result",
          "data": {
            "text/plain": [
              "Row(longitude=-122.05, latitude=37.37, housing_median_age=27.0, total_rooms=3885.0, total_bedrooms=661.0, population=1537.0, households=606.0, median_income=6.6085, median_house_value=344700.0)"
            ]
          },
          "metadata": {},
          "execution_count": 16
        }
      ]
    },
    {
      "cell_type": "markdown",
      "source": [
        "**Total de registros**"
      ],
      "metadata": {
        "id": "BlXpqlS0cB1Y"
      }
    },
    {
      "cell_type": "code",
      "source": [
        "dataset.count()"
      ],
      "metadata": {
        "colab": {
          "base_uri": "https://localhost:8080/"
        },
        "id": "R-asEch3YK50",
        "outputId": "2bafab91-1e31-45a8-862b-28f7455ac341"
      },
      "execution_count": 17,
      "outputs": [
        {
          "output_type": "execute_result",
          "data": {
            "text/plain": [
              "3000"
            ]
          },
          "metadata": {},
          "execution_count": 17
        }
      ]
    },
    {
      "cell_type": "markdown",
      "source": [
        "**Criar Tabela SQL Temporária**"
      ],
      "metadata": {
        "id": "cJUN0jkYcFeH"
      }
    },
    {
      "cell_type": "code",
      "source": [
        "dataset.createOrReplaceTempView(\"tabela_temporaria\")"
      ],
      "metadata": {
        "id": "fvzc-cJlYPdE"
      },
      "execution_count": 18,
      "outputs": []
    },
    {
      "cell_type": "markdown",
      "source": [
        "**Imprimir as Tabelas do Catálogo**"
      ],
      "metadata": {
        "id": "V5MlvY-rcMVf"
      }
    },
    {
      "cell_type": "code",
      "source": [
        "print(spark.catalog.listTables()) "
      ],
      "metadata": {
        "colab": {
          "base_uri": "https://localhost:8080/"
        },
        "id": "gld3yjvPcNLP",
        "outputId": "385e0302-0828-4fda-c221-a6bc7935a214"
      },
      "execution_count": 19,
      "outputs": [
        {
          "output_type": "stream",
          "name": "stdout",
          "text": [
            "[Table(name='tabela_temporaria', database=None, description=None, tableType='TEMPORARY', isTemporary=True)]\n"
          ]
        }
      ]
    },
    {
      "cell_type": "markdown",
      "source": [
        "**Criar consultas SQL**"
      ],
      "metadata": {
        "id": "3Ppg6b-eccYq"
      }
    },
    {
      "cell_type": "code",
      "source": [
        "query = \"FROM tabela_temporaria SELECT longitude, latitude LIMIT 3\"  # Don't change this query"
      ],
      "metadata": {
        "id": "VjA-j1IjYSNc"
      },
      "execution_count": 20,
      "outputs": []
    },
    {
      "cell_type": "markdown",
      "source": [
        "**Executar a Query**"
      ],
      "metadata": {
        "id": "bVGRf3gYciUo"
      }
    },
    {
      "cell_type": "code",
      "source": [
        "saida = spark.sql(query)  # Get the first 10 rows of flights"
      ],
      "metadata": {
        "id": "EU9GZDHlcnHA"
      },
      "execution_count": 21,
      "outputs": []
    },
    {
      "cell_type": "markdown",
      "source": [
        "**Exibir o resultado da Query**"
      ],
      "metadata": {
        "id": "im4STLaedDzP"
      }
    },
    {
      "cell_type": "code",
      "source": [
        "saida.show() # Show the results"
      ],
      "metadata": {
        "colab": {
          "base_uri": "https://localhost:8080/"
        },
        "id": "tJ2vB9ZbdIWv",
        "outputId": "8e81aed2-20e8-43f1-d583-f8cfcbed7d92"
      },
      "execution_count": 22,
      "outputs": [
        {
          "output_type": "stream",
          "name": "stdout",
          "text": [
            "+---------+--------+\n",
            "|longitude|latitude|\n",
            "+---------+--------+\n",
            "|  -122.05|   37.37|\n",
            "|   -118.3|   34.26|\n",
            "|  -117.81|   33.78|\n",
            "+---------+--------+\n",
            "\n"
          ]
        }
      ]
    },
    {
      "cell_type": "markdown",
      "source": [
        "**Parar o Spark**"
      ],
      "metadata": {
        "id": "_GH9f-5ldKOv"
      }
    },
    {
      "cell_type": "code",
      "source": [
        "spark.stop()"
      ],
      "metadata": {
        "id": "is8wPJrAYWID"
      },
      "execution_count": 23,
      "outputs": []
    }
  ]
}